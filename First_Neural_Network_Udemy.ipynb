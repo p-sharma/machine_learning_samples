{
  "nbformat": 4,
  "nbformat_minor": 0,
  "metadata": {
    "colab": {
      "name": "First Neural Network Udemy.ipynb",
      "version": "0.3.2",
      "provenance": [],
      "include_colab_link": true
    },
    "kernelspec": {
      "name": "python3",
      "display_name": "Python 3"
    }
  },
  "cells": [
    {
      "cell_type": "markdown",
      "metadata": {
        "id": "view-in-github",
        "colab_type": "text"
      },
      "source": [
        "<a href=\"https://colab.research.google.com/github/p-sharma/machine_learning_samples/blob/google_tensorflow/First_Neural_Network_Udemy.ipynb\" target=\"_parent\"><img src=\"https://colab.research.google.com/assets/colab-badge.svg\" alt=\"Open In Colab\"/></a>"
      ]
    },
    {
      "metadata": {
        "id": "xW34ONp7tTvb",
        "colab_type": "code",
        "colab": {}
      },
      "cell_type": "code",
      "source": [
        "import numpy as np\n",
        "import tensorflow as tf"
      ],
      "execution_count": 0,
      "outputs": []
    },
    {
      "metadata": {
        "id": "5U9hn4vYtc2m",
        "colab_type": "code",
        "colab": {}
      },
      "cell_type": "code",
      "source": [
        "np.random.seed(101)\n",
        "tf.set_random_seed(101)"
      ],
      "execution_count": 0,
      "outputs": []
    },
    {
      "metadata": {
        "id": "S2gFlWjlthpH",
        "colab_type": "code",
        "outputId": "a6c84487-f0c1-4e84-8f57-3542b2dff9dd",
        "colab": {
          "base_uri": "https://localhost:8080/",
          "height": 102
        }
      },
      "cell_type": "code",
      "source": [
        "rand_a = np.random.uniform(0,100,(5,5))\n",
        "rand_a"
      ],
      "execution_count": 0,
      "outputs": [
        {
          "output_type": "execute_result",
          "data": {
            "text/plain": [
              "array([[99.43179012, 52.06653967, 57.87895355, 73.48190583, 54.19617722],\n",
              "       [91.31535577, 80.7920151 , 40.29978307, 35.72243428, 95.28767147],\n",
              "       [34.36315779, 86.50998163, 83.02777122, 53.81614492, 92.24693726],\n",
              "       [ 9.71464798, 10.28474932, 70.15072957, 89.04798691, 15.95603009],\n",
              "       [27.55725449, 67.24915297, 16.4303124 , 70.13711366, 48.76352222]])"
            ]
          },
          "metadata": {
            "tags": []
          },
          "execution_count": 5
        }
      ]
    },
    {
      "metadata": {
        "id": "yHNLbhWYv3Xy",
        "colab_type": "code",
        "outputId": "44dce674-426c-4783-90a2-313111b525a1",
        "colab": {
          "base_uri": "https://localhost:8080/",
          "height": 102
        }
      },
      "cell_type": "code",
      "source": [
        "rand_b = np.random.uniform(0,100,(5,1))\n",
        "rand_b"
      ],
      "execution_count": 0,
      "outputs": [
        {
          "output_type": "execute_result",
          "data": {
            "text/plain": [
              "array([[68.06777682],\n",
              "       [52.15481923],\n",
              "       [ 4.33966944],\n",
              "       [22.39366035],\n",
              "       [57.52050869]])"
            ]
          },
          "metadata": {
            "tags": []
          },
          "execution_count": 6
        }
      ]
    },
    {
      "metadata": {
        "id": "fHYaMXF3v-UK",
        "colab_type": "code",
        "colab": {}
      },
      "cell_type": "code",
      "source": [
        "a = tf.placeholder(tf.float32)"
      ],
      "execution_count": 0,
      "outputs": []
    },
    {
      "metadata": {
        "id": "2gaNTSAJwCSr",
        "colab_type": "code",
        "colab": {}
      },
      "cell_type": "code",
      "source": [
        "b = tf.placeholder(tf.float32)"
      ],
      "execution_count": 0,
      "outputs": []
    },
    {
      "metadata": {
        "id": "fIhSXYESwFln",
        "colab_type": "code",
        "colab": {}
      },
      "cell_type": "code",
      "source": [
        "add_op = a + b"
      ],
      "execution_count": 0,
      "outputs": []
    },
    {
      "metadata": {
        "id": "EFqnn8b2wRBm",
        "colab_type": "code",
        "colab": {}
      },
      "cell_type": "code",
      "source": [
        "mult_op = a * b"
      ],
      "execution_count": 0,
      "outputs": []
    },
    {
      "metadata": {
        "id": "ycKn9bIGwTzI",
        "colab_type": "code",
        "outputId": "5d1d2dd8-15ed-4cc1-ab43-bbd535e8f0cd",
        "colab": {
          "base_uri": "https://localhost:8080/",
          "height": 221
        }
      },
      "cell_type": "code",
      "source": [
        "with tf.Session() as sess:\n",
        "  add_result = sess.run(add_op,feed_dict={a:rand_a,b:rand_b})\n",
        "  print(add_result)\n",
        "  print(\"\\n\")\n",
        "  mul_result = sess.run(mult_op, feed_dict={a:rand_a, b:rand_b})\n",
        "  print(mul_result)"
      ],
      "execution_count": 0,
      "outputs": [
        {
          "output_type": "stream",
          "text": [
            "[[167.49957  120.13432  125.94673  141.54968  122.26396 ]\n",
            " [143.47017  132.94684   92.454605  87.87726  147.44249 ]\n",
            " [ 38.702827  90.84965   87.36744   58.15581   96.58661 ]\n",
            " [ 32.108307  32.67841   92.54439  111.44165   38.34969 ]\n",
            " [ 85.07776  124.76966   73.95082  127.65762  106.28403 ]]\n",
            "\n",
            "\n",
            "[[6768.1016  3544.0537  3939.6917  5001.75    3689.0134 ]\n",
            " [4762.5356  4213.693   2101.828   1863.0972  4969.7114 ]\n",
            " [ 149.12474  375.42468  360.31305  233.54427  400.3212 ]\n",
            " [ 217.54652  230.31317 1570.9315  1994.1104   357.3139 ]\n",
            " [1585.1073  3868.2053   945.07996 4034.3225  2804.9026 ]]\n"
          ],
          "name": "stdout"
        }
      ]
    },
    {
      "metadata": {
        "id": "W74E2TfXq5qX",
        "colab_type": "text"
      },
      "cell_type": "markdown",
      "source": [
        "**Example neural network**\n"
      ]
    },
    {
      "metadata": {
        "id": "x7kqycdXrAdD",
        "colab_type": "code",
        "colab": {}
      },
      "cell_type": "code",
      "source": [
        ""
      ],
      "execution_count": 0,
      "outputs": []
    }
  ]
}